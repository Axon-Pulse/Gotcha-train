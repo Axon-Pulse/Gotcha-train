{
 "cells": [
  {
   "cell_type": "code",
   "execution_count": null,
   "metadata": {},
   "outputs": [],
   "source": [
    "import pandas as pd\n",
    "import warnings\n",
    "import pickle\n",
    "warnings.filterwarnings('ignore')\n"
   ]
  },
  {
   "cell_type": "code",
   "execution_count": null,
   "metadata": {},
   "outputs": [],
   "source": [
    "# read df from pkl\n",
    "\n",
    "with open('/mnt/storage/beni/first_drone_exp_filtered/recs_df.pkl', \"rb\") as fp:   # Unpickling\n",
    "    labels = pickle.load(fp)\n",
    "df_pkl = pd.read_pickle('/mnt/storage/beni/first_drone_exp_filtered/recs_df.pkl')\n",
    "df_csv = pd.read_csv('/mnt/storage/beni/first_drone_exp_filtered/recs_df.csv')\n",
    "a = df_pkl[0]"
   ]
  },
  {
   "cell_type": "code",
   "execution_count": null,
   "metadata": {},
   "outputs": [],
   "source": [
    "# open the npy first row in csv_csv and plot it as an image\n",
    "import numpy as np\n",
    "import matplotlib.pyplot as plt\n",
    "from PIL import Image\n",
    "import io\n",
    "pkl_file_row_path = df_csv.iloc[6]['full_path'] \n",
    "pkl_file_row_path = pkl_file_row_path.replace('/home/daniel/Documents/Gotcha/recordings/first_drone_exp/recording_f4/', '/mnt/storage/beni/first_drone_exp_filtered/')\n",
    "raw_sample = np.load(pkl_file_row_path).astype(np.float32)"
   ]
  }
 ],
 "metadata": {
  "kernelspec": {
   "display_name": "Python 3",
   "language": "python",
   "name": "python3"
  },
  "language_info": {
   "codemirror_mode": {
    "name": "ipython",
    "version": 3
   },
   "file_extension": ".py",
   "mimetype": "text/x-python",
   "name": "python",
   "nbconvert_exporter": "python",
   "pygments_lexer": "ipython3",
   "version": "3.8.10"
  }
 },
 "nbformat": 4,
 "nbformat_minor": 2
}
